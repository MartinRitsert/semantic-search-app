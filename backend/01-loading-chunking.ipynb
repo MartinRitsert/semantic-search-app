{
 "cells": [
  {
   "cell_type": "code",
   "execution_count": 2,
   "id": "d2118977",
   "metadata": {},
   "outputs": [
    {
     "name": "stdout",
     "output_type": "stream",
     "text": [
      "Libraries imported successfully\n"
     ]
    }
   ],
   "source": [
    "# Import necessary libraries\n",
    "import os\n",
    "from pypdf import PdfReader\n",
    "from langchain.text_splitter import RecursiveCharacterTextSplitter\n",
    "\n",
    "print(\"Libraries imported successfully\")"
   ]
  },
  {
   "cell_type": "code",
   "execution_count": null,
   "id": "6fbb2de7",
   "metadata": {},
   "outputs": [
    {
     "name": "stdout",
     "output_type": "stream",
     "text": [
      "Loading PDF from: ../data/Attention Is All You Need.pdf\n",
      "Successfully loaded document with 39602 characters.\n"
     ]
    }
   ],
   "source": [
    "# Construct the path to the PDF file in the data directory\n",
    "# Assumes the notebook is running in the 'backend' directory\n",
    "pdf_file_path = os.path.join('..', 'data', 'Attention Is All You Need.pdf')\n",
    "\n",
    "# Check if the file exists\n",
    "if not os.path.exists(pdf_file_path):\n",
    "    raise FileNotFoundError(f\"The file {pdf_file_path} does not exist.\")\n",
    "else:\n",
    "    print(f\"Loading PDF from: {pdf_file_path}\")\n",
    "    try:\n",
    "        # Initialize the PDF reader\n",
    "        reader = PdfReader(pdf_file_path)\n",
    "\n",
    "        # Extract text from the PDF\n",
    "        full_document_text = \"\"\n",
    "        for page in reader.pages:\n",
    "            page_text = page.extract_text()\n",
    "            if page_text:\n",
    "                full_document_text += page_text + \"\\n\"  # Add a newline between pages\n",
    "            \n",
    "        print(f\"Successfully loaded document with {len(full_document_text)} characters.\")\n",
    "\n",
    "    except Exception as e:\n",
    "        print(f\"An error occurred while reading the PDF: {e}\")\n",
    "        full_document_text = None  # Ensure variable exists but is none on error"
   ]
  },
  {
   "cell_type": "code",
   "execution_count": null,
   "id": "8c7af70c",
   "metadata": {},
   "outputs": [
    {
     "name": "stdout",
     "output_type": "stream",
     "text": [
      "Initializing text splitter...\n",
      "Splitting document into chunks...\n",
      "Document split into 50 chunks.\n",
      "\n",
      "--- First Chunk ---\n",
      "Provided proper attribution is provided, Google hereby grants permission to\n",
      "reproduce the tables and figures in this paper solely for use in journalistic or\n",
      "scholarly works.\n",
      "Attention Is All You Need\n",
      "Ashish Vaswani∗\n",
      "Google Brain\n",
      "avaswani@google.com\n",
      "Noam Shazeer∗\n",
      "Google Brain\n",
      "noam@google.com\n",
      "Niki Parmar∗\n",
      "Google Research\n",
      "nikip@google.com\n",
      "Jakob Uszkoreit∗\n",
      "Google Research\n",
      "usz@google.com\n",
      "Llion Jones∗\n",
      "Google Research\n",
      "llion@google.com\n",
      "Aidan N. Gomez∗ †\n",
      "University of Toronto\n",
      "aidan@cs.toronto.edu\n",
      "Łukasz Kaiser∗\n",
      "Google Brain\n",
      "lukaszkaiser@google.com\n",
      "Illia Polosukhin∗ ‡\n",
      "illia.polosukhin@gmail.com\n",
      "Abstract\n",
      "The dominant sequence transduction models are based on complex recurrent or\n",
      "convolutional neural networks that include an encoder and a decoder. The best\n",
      "performing models also connect the encoder and decoder through an attention\n",
      "mechanism. We propose a new simple network architecture, the Transformer,\n",
      "based solely on attention mechanisms, dispensing with recurrence and convolutions\n",
      "\n",
      "--- Second Chunk ---\n",
      "mechanism. We propose a new simple network architecture, the Transformer,\n",
      "based solely on attention mechanisms, dispensing with recurrence and convolutions\n",
      "entirely. Experiments on two machine translation tasks show these models to\n",
      "be superior in quality while being more parallelizable and requiring significantly\n",
      "less time to train. Our model achieves 28.4 BLEU on the WMT 2014 English-\n",
      "to-German translation task, improving over the existing best results, including\n",
      "ensembles, by over 2 BLEU. On the WMT 2014 English-to-French translation task,\n",
      "our model establishes a new single-model state-of-the-art BLEU score of 41.8 after\n",
      "training for 3.5 days on eight GPUs, a small fraction of the training costs of the\n",
      "best models from the literature. We show that the Transformer generalizes well to\n",
      "other tasks by applying it successfully to English constituency parsing both with\n",
      "large and limited training data.\n",
      "\n",
      "--- Third Chunk ---\n",
      "best models from the literature. We show that the Transformer generalizes well to\n",
      "other tasks by applying it successfully to English constituency parsing both with\n",
      "large and limited training data.\n",
      "∗Equal contribution. Listing order is random. Jakob proposed replacing RNNs with self-attention and started\n",
      "the effort to evaluate this idea. Ashish, with Illia, designed and implemented the first Transformer models and\n",
      "has been crucially involved in every aspect of this work. Noam proposed scaled dot-product attention, multi-head\n",
      "attention and the parameter-free position representation and became the other person involved in nearly every\n",
      "detail. Niki designed, implemented, tuned and evaluated countless model variants in our original codebase and\n",
      "tensor2tensor. Llion also experimented with novel model variants, was responsible for our initial codebase, and\n",
      "efficient inference and visualizations. Lukasz and Aidan spent countless long days designing various parts of and\n"
     ]
    }
   ],
   "source": [
    "# Ensure text was loaded before proceeding\n",
    "if full_document_text:\n",
    "    print(\"Initializing text splitter...\")\n",
    "    # Initialize the Recursive Character Text Splitter\n",
    "    text_splitter = RecursiveCharacterTextSplitter(\n",
    "        chunk_size=1000,\n",
    "        chunk_overlap=200,\n",
    "        length_function=len,  #TODO: Might change to tokenizer later\n",
    "        separators=[\"\\n\\n\", \"\\n\", \" \", \"\"]  # Priorize splitting by paragraph, then line, then space\n",
    "    )\n",
    "\n",
    "    print(\"Splitting document into chunks...\")\n",
    "    # Split the document into chunks\n",
    "    text_chunks = text_splitter.split_text(full_document_text)\n",
    "\n",
    "    print(f\"Document split into {len(text_chunks)} chunks.\")\n",
    "\n",
    "    # Examine the first few chunks\n",
    "    print(\"\\n--- First Chunk ---\")\n",
    "    print(text_chunks[0])\n",
    "    print(\"\\n--- Second Chunk ---\")\n",
    "    print(text_chunks[1])\n",
    "    print(\"\\n--- Third Chunk ---\")\n",
    "    print(text_chunks[2])\n",
    "\n",
    "else:\n",
    "    print(\"Skipping chunking because document text was not loaded.\")"
   ]
  },
  {
   "cell_type": "code",
   "execution_count": null,
   "id": "d2430ed0",
   "metadata": {},
   "outputs": [],
   "source": []
  }
 ],
 "metadata": {
  "kernelspec": {
   "display_name": "semantic_search_env",
   "language": "python",
   "name": "python3"
  },
  "language_info": {
   "codemirror_mode": {
    "name": "ipython",
    "version": 3
   },
   "file_extension": ".py",
   "mimetype": "text/x-python",
   "name": "python",
   "nbconvert_exporter": "python",
   "pygments_lexer": "ipython3",
   "version": "3.10.16"
  }
 },
 "nbformat": 4,
 "nbformat_minor": 5
}
